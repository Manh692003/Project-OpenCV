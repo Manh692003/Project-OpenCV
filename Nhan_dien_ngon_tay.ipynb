{
 "cells": [
  {
   "cell_type": "code",
   "execution_count": 5,
   "id": "4dca7abf",
   "metadata": {},
   "outputs": [],
   "source": [
    "import os\n",
    "import cv2"
   ]
  },
  {
   "cell_type": "code",
   "execution_count": 2,
   "id": "09a99e90",
   "metadata": {},
   "outputs": [
    {
     "name": "stdout",
     "output_type": "stream",
     "text": [
      "['1.png', '2.png', '3.png', '4.png', '5.png', '6.png']\n"
     ]
    }
   ],
   "source": [
    "file_path = 'Fingers'\n",
    "list_file = os.listdir(file_path)\n",
    "print(list_file)"
   ]
  },
  {
   "cell_type": "code",
   "execution_count": 4,
   "id": "a1dccc44",
   "metadata": {},
   "outputs": [
    {
     "name": "stdout",
     "output_type": "stream",
     "text": [
      "Fingers/1.png\n",
      "Fingers/2.png\n",
      "Fingers/3.png\n",
      "Fingers/4.png\n",
      "Fingers/5.png\n",
      "Fingers/6.png\n"
     ]
    }
   ],
   "source": [
    "for i in list_file:\n",
    "    print(f'{file_path}/{i}')"
   ]
  },
  {
   "cell_type": "code",
   "execution_count": 6,
   "id": "3cba7edd",
   "metadata": {},
   "outputs": [],
   "source": [
    "# add các ảnh vào list\n",
    "list_image = []\n",
    "for i in list_file:\n",
    "    image = cv2.imread(f'{file_path}/{i}')\n",
    "    list_image.append(image)"
   ]
  },
  {
   "cell_type": "code",
   "execution_count": 7,
   "id": "991ac67d",
   "metadata": {},
   "outputs": [
    {
     "name": "stdout",
     "output_type": "stream",
     "text": [
      "(132, 109, 3)\n"
     ]
    }
   ],
   "source": [
    "print(list_image[0].shape)"
   ]
  },
  {
   "cell_type": "code",
   "execution_count": null,
   "id": "acb48a09",
   "metadata": {},
   "outputs": [],
   "source": []
  }
 ],
 "metadata": {
  "kernelspec": {
   "display_name": "Python 3",
   "language": "python",
   "name": "python3"
  },
  "language_info": {
   "codemirror_mode": {
    "name": "ipython",
    "version": 3
   },
   "file_extension": ".py",
   "mimetype": "text/x-python",
   "name": "python",
   "nbconvert_exporter": "python",
   "pygments_lexer": "ipython3",
   "version": "3.10.10"
  },
  "vscode": {
   "interpreter": {
    "hash": "3a4b60d0e9c9ce3c752095fddd17b477b72b2500e272abc31796d05ee2542b3d"
   }
  }
 },
 "nbformat": 4,
 "nbformat_minor": 5
}
